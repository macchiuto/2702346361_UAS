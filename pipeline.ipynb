{
 "cells": [
  {
   "cell_type": "code",
   "execution_count": 1,
   "id": "d9f505ed",
   "metadata": {},
   "outputs": [],
   "source": [
    "import pandas as pd\n",
    "import numpy as np\n",
    "from sklearn.model_selection import train_test_split\n",
    "from sklearn.preprocessing import OneHotEncoder, OrdinalEncoder, LabelEncoder\n",
    "from sklearn.compose import ColumnTransformer\n",
    "from sklearn.pipeline import Pipeline\n",
    "from sklearn.impute import SimpleImputer\n",
    "from sklearn.ensemble import RandomForestClassifier\n",
    "from xgboost import XGBClassifier\n",
    "from sklearn.metrics import classification_report\n",
    "import pickle"
   ]
  },
  {
   "cell_type": "markdown",
   "id": "47373c6c",
   "metadata": {},
   "source": [
    "**Preprocessing**"
   ]
  },
  {
   "cell_type": "code",
   "execution_count": 2,
   "id": "55944daa",
   "metadata": {},
   "outputs": [],
   "source": [
    "# Load data\n",
    "df = pd.read_csv('/Users/debby/Downloads/ObesityDataSet1.csv')\n",
    "\n",
    "# Preprocessing\n",
    "# 1. Perbaiki kolom Age\n",
    "df['Age'] = df['Age'].str.replace('years','',case=False).str.strip()\n",
    "df['Age'] = pd.to_numeric(df['Age'], errors='coerce')\n",
    "\n",
    "# 2. Drop data yang value di target labelnya (NObeyesdad) NaN\n",
    "df = df.dropna(subset=['NObeyesdad'])\n",
    "\n",
    "# Define fitur (input) dan target variable (output)\n",
    "df_input = df.drop('NObeyesdad', axis=1)\n",
    "df_output = df['NObeyesdad']\n",
    "\n",
    "# Split data\n",
    "x_train, x_test, y_train, y_test = train_test_split(\n",
    "    df_input, df_output, test_size=0.2, random_state=42, stratify=df_output\n",
    ")\n",
    "\n",
    "# Define obesity levels untuk referensi\n",
    "obesity_levels = [\n",
    "    'Insufficient_Weight',\n",
    "    'Normal_Weight',\n",
    "    'Overweight_Level_I',\n",
    "    'Overweight_Level_II',\n",
    "    'Obesity_Type_I',\n",
    "    'Obesity_Type_II',\n",
    "    'Obesity_Type_III'\n",
    "]\n",
    "\n",
    "# Encode target variable\n",
    "label_encoder = LabelEncoder()\n",
    "y_train_encoded = label_encoder.fit_transform(y_train)\n",
    "y_test_encoded = label_encoder.transform(y_test)"
   ]
  },
  {
   "cell_type": "markdown",
   "id": "79251128",
   "metadata": {},
   "source": [
    "**Define steps preprocessing**"
   ]
  },
  {
   "cell_type": "code",
   "execution_count": 3,
   "id": "9dc7eb7d",
   "metadata": {},
   "outputs": [],
   "source": [
    "# Variabel numerikal\n",
    "num_cols = ['Height', 'Weight', 'FCVC', 'NCP', 'CH2O', 'FAF', 'TUE']\n",
    "num_transformer = Pipeline(steps=[\n",
    "    ('imputer', SimpleImputer(strategy='mean'))\n",
    "])\n",
    "\n",
    "# Variabel kategorikal\n",
    "cat_cols = ['Gender', 'family_history_with_overweight', 'FAVC', 'SMOKE', 'SCC', 'CAEC', 'CALC']\n",
    "cat_transformer = Pipeline(steps=[\n",
    "    ('imputer', SimpleImputer(strategy='most_frequent')),\n",
    "    ('ordinal', OrdinalEncoder(\n",
    "        categories=[\n",
    "            ['Male', 'Female'],\n",
    "            ['no', 'yes'],\n",
    "            ['no', 'yes'],\n",
    "            ['no', 'yes'],\n",
    "            ['no', 'yes'],\n",
    "            ['no', 'Sometimes', 'Frequently', 'Always'],\n",
    "            ['no', 'Sometimes', 'Frequently']\n",
    "        ]\n",
    "    ))\n",
    "])\n",
    "\n",
    "# One-hot encoding kolom MTRANS \n",
    "mtrans_features = ['MTRANS']\n",
    "mtrans_transformer = Pipeline(steps=[\n",
    "    ('imputer', SimpleImputer(strategy='most_frequent')),\n",
    "    ('onehot', OneHotEncoder(drop='first'))\n",
    "])\n",
    "\n",
    "# Satukan semua preprocessor\n",
    "preprocessor = ColumnTransformer(\n",
    "    transformers=[\n",
    "        ('num', num_transformer, num_cols),\n",
    "        ('cat', cat_transformer, cat_cols),\n",
    "        ('mtrans', mtrans_transformer, mtrans_features)\n",
    "    ])"
   ]
  },
  {
   "cell_type": "markdown",
   "id": "06444385",
   "metadata": {},
   "source": [
    "**Full pipeline XGBoost**"
   ]
  },
  {
   "cell_type": "code",
   "execution_count": 4,
   "id": "14b39cf2",
   "metadata": {},
   "outputs": [],
   "source": [
    "pipeline = Pipeline(steps=[\n",
    "    ('preprocessor', preprocessor),\n",
    "    ('classifier', XGBClassifier())\n",
    "])\n",
    "\n",
    "# Fit pipeline dengan y_train_encoded\n",
    "pipeline.fit(x_train, y_train_encoded)\n",
    "\n",
    "# Save pipeline, label encoder, dan obesity levels\n",
    "with open('xgb_pipeline.pkl', 'wb') as file:\n",
    "    pickle.dump({\n",
    "        'pipeline': pipeline,\n",
    "        'label_encoder': label_encoder,\n",
    "        'obesity_levels': obesity_levels\n",
    "    }, file)"
   ]
  },
  {
   "cell_type": "code",
   "execution_count": 5,
   "id": "633fa265",
   "metadata": {},
   "outputs": [
    {
     "name": "stdout",
     "output_type": "stream",
     "text": [
      "\n",
      "Classification Report\n",
      "\n",
      "                     precision    recall  f1-score   support\n",
      "\n",
      "Insufficient_Weight       0.93      1.00      0.96        27\n",
      "      Normal_Weight       0.90      0.90      0.90        29\n",
      " Overweight_Level_I       0.94      0.97      0.96        35\n",
      "Overweight_Level_II       1.00      0.97      0.98        30\n",
      "     Obesity_Type_I       1.00      1.00      1.00        32\n",
      "    Obesity_Type_II       0.90      0.90      0.90        29\n",
      "   Obesity_Type_III       0.96      0.90      0.93        29\n",
      "\n",
      "           accuracy                           0.95       211\n",
      "          macro avg       0.95      0.95      0.95       211\n",
      "       weighted avg       0.95      0.95      0.95       211\n",
      "\n"
     ]
    }
   ],
   "source": [
    "# Prediksi\n",
    "y_pred_encoded = pipeline.predict(x_test)\n",
    "y_pred = label_encoder.inverse_transform(y_pred_encoded)\n",
    "\n",
    "# Classification report\n",
    "print('\\nClassification Report\\n')\n",
    "print(classification_report(y_test, y_pred, target_names=obesity_levels))"
   ]
  }
 ],
 "metadata": {
  "kernelspec": {
   "display_name": "base",
   "language": "python",
   "name": "python3"
  },
  "language_info": {
   "codemirror_mode": {
    "name": "ipython",
    "version": 3
   },
   "file_extension": ".py",
   "mimetype": "text/x-python",
   "name": "python",
   "nbconvert_exporter": "python",
   "pygments_lexer": "ipython3",
   "version": "3.11.8"
  }
 },
 "nbformat": 4,
 "nbformat_minor": 5
}
